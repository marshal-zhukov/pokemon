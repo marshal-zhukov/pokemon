{
 "cells": [
  {
   "cell_type": "markdown",
   "id": "81f72f54",
   "metadata": {},
   "source": [
    "# Домашнее задание 2: визуализация данных "
   ]
  },
  {
   "cell_type": "markdown",
   "id": "65c37324",
   "metadata": {},
   "source": [
    "### 1. Первичный анализ данных "
   ]
  },
  {
   "cell_type": "markdown",
   "id": "a3851b12",
   "metadata": {},
   "source": [
    "Посмотрим на наши данные и, если надо, почистим их"
   ]
  },
  {
   "cell_type": "code",
   "execution_count": 28,
   "id": "8b695163",
   "metadata": {},
   "outputs": [],
   "source": [
    "import pandas as pd\n",
    "import numpy as np\n",
    "import matplotlib.pyplot as plt\n",
    "import math\n",
    "import seaborn as sns\n"
   ]
  },
  {
   "cell_type": "code",
   "execution_count": 2,
   "id": "570347d6",
   "metadata": {},
   "outputs": [],
   "source": [
    "data = pd.read_csv('pokemon.csv')"
   ]
  },
  {
   "cell_type": "code",
   "execution_count": 3,
   "id": "7acebeb9",
   "metadata": {},
   "outputs": [
    {
     "data": {
      "text/html": [
       "<div>\n",
       "<style scoped>\n",
       "    .dataframe tbody tr th:only-of-type {\n",
       "        vertical-align: middle;\n",
       "    }\n",
       "\n",
       "    .dataframe tbody tr th {\n",
       "        vertical-align: top;\n",
       "    }\n",
       "\n",
       "    .dataframe thead th {\n",
       "        text-align: right;\n",
       "    }\n",
       "</style>\n",
       "<table border=\"1\" class=\"dataframe\">\n",
       "  <thead>\n",
       "    <tr style=\"text-align: right;\">\n",
       "      <th></th>\n",
       "      <th>#</th>\n",
       "      <th>Name</th>\n",
       "      <th>Type 1</th>\n",
       "      <th>Type 2</th>\n",
       "      <th>Total</th>\n",
       "      <th>HP</th>\n",
       "      <th>Attack</th>\n",
       "      <th>Defense</th>\n",
       "      <th>Sp. Atk</th>\n",
       "      <th>Sp. Def</th>\n",
       "      <th>Speed</th>\n",
       "      <th>Generation</th>\n",
       "      <th>Legendary</th>\n",
       "    </tr>\n",
       "  </thead>\n",
       "  <tbody>\n",
       "    <tr>\n",
       "      <th>0</th>\n",
       "      <td>1</td>\n",
       "      <td>Bulbasaur</td>\n",
       "      <td>Grass</td>\n",
       "      <td>Poison</td>\n",
       "      <td>318</td>\n",
       "      <td>45</td>\n",
       "      <td>49</td>\n",
       "      <td>49</td>\n",
       "      <td>65</td>\n",
       "      <td>65</td>\n",
       "      <td>45</td>\n",
       "      <td>1</td>\n",
       "      <td>False</td>\n",
       "    </tr>\n",
       "    <tr>\n",
       "      <th>1</th>\n",
       "      <td>2</td>\n",
       "      <td>Ivysaur</td>\n",
       "      <td>Grass</td>\n",
       "      <td>Poison</td>\n",
       "      <td>405</td>\n",
       "      <td>60</td>\n",
       "      <td>62</td>\n",
       "      <td>63</td>\n",
       "      <td>80</td>\n",
       "      <td>80</td>\n",
       "      <td>60</td>\n",
       "      <td>1</td>\n",
       "      <td>False</td>\n",
       "    </tr>\n",
       "    <tr>\n",
       "      <th>2</th>\n",
       "      <td>3</td>\n",
       "      <td>Venusaur</td>\n",
       "      <td>Grass</td>\n",
       "      <td>Poison</td>\n",
       "      <td>525</td>\n",
       "      <td>80</td>\n",
       "      <td>82</td>\n",
       "      <td>83</td>\n",
       "      <td>100</td>\n",
       "      <td>100</td>\n",
       "      <td>80</td>\n",
       "      <td>1</td>\n",
       "      <td>False</td>\n",
       "    </tr>\n",
       "    <tr>\n",
       "      <th>3</th>\n",
       "      <td>3</td>\n",
       "      <td>VenusaurMega Venusaur</td>\n",
       "      <td>Grass</td>\n",
       "      <td>Poison</td>\n",
       "      <td>625</td>\n",
       "      <td>80</td>\n",
       "      <td>100</td>\n",
       "      <td>123</td>\n",
       "      <td>122</td>\n",
       "      <td>120</td>\n",
       "      <td>80</td>\n",
       "      <td>1</td>\n",
       "      <td>False</td>\n",
       "    </tr>\n",
       "    <tr>\n",
       "      <th>4</th>\n",
       "      <td>4</td>\n",
       "      <td>Charmander</td>\n",
       "      <td>Fire</td>\n",
       "      <td>NaN</td>\n",
       "      <td>309</td>\n",
       "      <td>39</td>\n",
       "      <td>52</td>\n",
       "      <td>43</td>\n",
       "      <td>60</td>\n",
       "      <td>50</td>\n",
       "      <td>65</td>\n",
       "      <td>1</td>\n",
       "      <td>False</td>\n",
       "    </tr>\n",
       "    <tr>\n",
       "      <th>5</th>\n",
       "      <td>5</td>\n",
       "      <td>Charmeleon</td>\n",
       "      <td>Fire</td>\n",
       "      <td>NaN</td>\n",
       "      <td>405</td>\n",
       "      <td>58</td>\n",
       "      <td>64</td>\n",
       "      <td>58</td>\n",
       "      <td>80</td>\n",
       "      <td>65</td>\n",
       "      <td>80</td>\n",
       "      <td>1</td>\n",
       "      <td>False</td>\n",
       "    </tr>\n",
       "    <tr>\n",
       "      <th>6</th>\n",
       "      <td>6</td>\n",
       "      <td>Charizard</td>\n",
       "      <td>Fire</td>\n",
       "      <td>Flying</td>\n",
       "      <td>534</td>\n",
       "      <td>78</td>\n",
       "      <td>84</td>\n",
       "      <td>78</td>\n",
       "      <td>109</td>\n",
       "      <td>85</td>\n",
       "      <td>100</td>\n",
       "      <td>1</td>\n",
       "      <td>False</td>\n",
       "    </tr>\n",
       "    <tr>\n",
       "      <th>7</th>\n",
       "      <td>6</td>\n",
       "      <td>CharizardMega Charizard X</td>\n",
       "      <td>Fire</td>\n",
       "      <td>Dragon</td>\n",
       "      <td>634</td>\n",
       "      <td>78</td>\n",
       "      <td>130</td>\n",
       "      <td>111</td>\n",
       "      <td>130</td>\n",
       "      <td>85</td>\n",
       "      <td>100</td>\n",
       "      <td>1</td>\n",
       "      <td>False</td>\n",
       "    </tr>\n",
       "    <tr>\n",
       "      <th>8</th>\n",
       "      <td>6</td>\n",
       "      <td>CharizardMega Charizard Y</td>\n",
       "      <td>Fire</td>\n",
       "      <td>Flying</td>\n",
       "      <td>634</td>\n",
       "      <td>78</td>\n",
       "      <td>104</td>\n",
       "      <td>78</td>\n",
       "      <td>159</td>\n",
       "      <td>115</td>\n",
       "      <td>100</td>\n",
       "      <td>1</td>\n",
       "      <td>False</td>\n",
       "    </tr>\n",
       "    <tr>\n",
       "      <th>9</th>\n",
       "      <td>7</td>\n",
       "      <td>Squirtle</td>\n",
       "      <td>Water</td>\n",
       "      <td>NaN</td>\n",
       "      <td>314</td>\n",
       "      <td>44</td>\n",
       "      <td>48</td>\n",
       "      <td>65</td>\n",
       "      <td>50</td>\n",
       "      <td>64</td>\n",
       "      <td>43</td>\n",
       "      <td>1</td>\n",
       "      <td>False</td>\n",
       "    </tr>\n",
       "  </tbody>\n",
       "</table>\n",
       "</div>"
      ],
      "text/plain": [
       "   #                       Name Type 1  Type 2  Total  HP  Attack  Defense  \\\n",
       "0  1                  Bulbasaur  Grass  Poison    318  45      49       49   \n",
       "1  2                    Ivysaur  Grass  Poison    405  60      62       63   \n",
       "2  3                   Venusaur  Grass  Poison    525  80      82       83   \n",
       "3  3      VenusaurMega Venusaur  Grass  Poison    625  80     100      123   \n",
       "4  4                 Charmander   Fire     NaN    309  39      52       43   \n",
       "5  5                 Charmeleon   Fire     NaN    405  58      64       58   \n",
       "6  6                  Charizard   Fire  Flying    534  78      84       78   \n",
       "7  6  CharizardMega Charizard X   Fire  Dragon    634  78     130      111   \n",
       "8  6  CharizardMega Charizard Y   Fire  Flying    634  78     104       78   \n",
       "9  7                   Squirtle  Water     NaN    314  44      48       65   \n",
       "\n",
       "   Sp. Atk  Sp. Def  Speed  Generation  Legendary  \n",
       "0       65       65     45           1      False  \n",
       "1       80       80     60           1      False  \n",
       "2      100      100     80           1      False  \n",
       "3      122      120     80           1      False  \n",
       "4       60       50     65           1      False  \n",
       "5       80       65     80           1      False  \n",
       "6      109       85    100           1      False  \n",
       "7      130       85    100           1      False  \n",
       "8      159      115    100           1      False  \n",
       "9       50       64     43           1      False  "
      ]
     },
     "execution_count": 3,
     "metadata": {},
     "output_type": "execute_result"
    }
   ],
   "source": [
    "data.head(10)"
   ]
  },
  {
   "cell_type": "markdown",
   "id": "866ea95c",
   "metadata": {},
   "source": [
    "Всё отображается корректно, но я бы заменил колонку \"#\"(**ID for each pokemon**) для удобства."
   ]
  },
  {
   "cell_type": "markdown",
   "id": "cf303258",
   "metadata": {},
   "source": [
    "Что не маловажно, **у покемона разных стадий один и тот же ID**."
   ]
  },
  {
   "cell_type": "code",
   "execution_count": 4,
   "id": "5c3702c1",
   "metadata": {},
   "outputs": [],
   "source": [
    "data = data.rename({'#':'ID'}, axis = 1)"
   ]
  },
  {
   "cell_type": "markdown",
   "id": "c75ffd01",
   "metadata": {},
   "source": [
    "Проверяем **размерность.**"
   ]
  },
  {
   "cell_type": "code",
   "execution_count": 5,
   "id": "dd993f6d",
   "metadata": {},
   "outputs": [
    {
     "data": {
      "text/plain": [
       "(800, 13)"
      ]
     },
     "execution_count": 5,
     "metadata": {},
     "output_type": "execute_result"
    }
   ],
   "source": [
    "data.shape"
   ]
  },
  {
   "cell_type": "markdown",
   "id": "a16b414f",
   "metadata": {},
   "source": [
    "Узнаём сколько у нас **дубликатов.**"
   ]
  },
  {
   "cell_type": "code",
   "execution_count": 6,
   "id": "b3140efb",
   "metadata": {},
   "outputs": [
    {
     "data": {
      "text/plain": [
       "0"
      ]
     },
     "execution_count": 6,
     "metadata": {},
     "output_type": "execute_result"
    }
   ],
   "source": [
    "data.duplicated().sum()"
   ]
  },
  {
   "cell_type": "markdown",
   "id": "fb429aef",
   "metadata": {},
   "source": [
    "Итого у нас **800** строк, **13** колонок. Дубликатов нет."
   ]
  },
  {
   "cell_type": "code",
   "execution_count": 7,
   "id": "90dc9a56",
   "metadata": {},
   "outputs": [
    {
     "data": {
      "text/plain": [
       "ID              0\n",
       "Name            0\n",
       "Type 1          0\n",
       "Type 2        386\n",
       "Total           0\n",
       "HP              0\n",
       "Attack          0\n",
       "Defense         0\n",
       "Sp. Atk         0\n",
       "Sp. Def         0\n",
       "Speed           0\n",
       "Generation      0\n",
       "Legendary       0\n",
       "dtype: int64"
      ]
     },
     "execution_count": 7,
     "metadata": {},
     "output_type": "execute_result"
    }
   ],
   "source": [
    "data.isna().sum()"
   ]
  },
  {
   "cell_type": "markdown",
   "id": "c56f15d1",
   "metadata": {},
   "source": [
    "Чистить строки с пропусками я не буду, потому что это повредит смыслам.  \n",
    "Читаем описание колонки \"Type 2\" - Type 2: Some pokemon are dual type and have 2.  \n",
    "Иначе говоря, не все покемоны имеют два стихийных типа. Всего стихийных типов 18."
   ]
  },
  {
   "cell_type": "code",
   "execution_count": 8,
   "id": "0d453ad6",
   "metadata": {},
   "outputs": [
    {
     "name": "stdout",
     "output_type": "stream",
     "text": [
      "<class 'pandas.core.frame.DataFrame'>\n",
      "RangeIndex: 800 entries, 0 to 799\n",
      "Data columns (total 13 columns):\n",
      " #   Column      Non-Null Count  Dtype \n",
      "---  ------      --------------  ----- \n",
      " 0   ID          800 non-null    int64 \n",
      " 1   Name        800 non-null    object\n",
      " 2   Type 1      800 non-null    object\n",
      " 3   Type 2      414 non-null    object\n",
      " 4   Total       800 non-null    int64 \n",
      " 5   HP          800 non-null    int64 \n",
      " 6   Attack      800 non-null    int64 \n",
      " 7   Defense     800 non-null    int64 \n",
      " 8   Sp. Atk     800 non-null    int64 \n",
      " 9   Sp. Def     800 non-null    int64 \n",
      " 10  Speed       800 non-null    int64 \n",
      " 11  Generation  800 non-null    int64 \n",
      " 12  Legendary   800 non-null    bool  \n",
      "dtypes: bool(1), int64(9), object(3)\n",
      "memory usage: 75.9+ KB\n"
     ]
    }
   ],
   "source": [
    "data.info()"
   ]
  },
  {
   "cell_type": "markdown",
   "id": "c2eb4bd8",
   "metadata": {},
   "source": [
    "Все данные в полном порядке, формат данных не вижу смысла нигде менять."
   ]
  },
  {
   "cell_type": "code",
   "execution_count": 29,
   "id": "af2eb7ab",
   "metadata": {},
   "outputs": [
    {
     "data": {
      "text/html": [
       "<div>\n",
       "<style scoped>\n",
       "    .dataframe tbody tr th:only-of-type {\n",
       "        vertical-align: middle;\n",
       "    }\n",
       "\n",
       "    .dataframe tbody tr th {\n",
       "        vertical-align: top;\n",
       "    }\n",
       "\n",
       "    .dataframe thead th {\n",
       "        text-align: right;\n",
       "    }\n",
       "</style>\n",
       "<table border=\"1\" class=\"dataframe\">\n",
       "  <thead>\n",
       "    <tr style=\"text-align: right;\">\n",
       "      <th></th>\n",
       "      <th>ID</th>\n",
       "      <th>Name</th>\n",
       "      <th>Type 1</th>\n",
       "      <th>Type 2</th>\n",
       "      <th>Total</th>\n",
       "      <th>HP</th>\n",
       "      <th>Attack</th>\n",
       "      <th>Defense</th>\n",
       "      <th>Sp. Atk</th>\n",
       "      <th>Sp. Def</th>\n",
       "      <th>Speed</th>\n",
       "      <th>Generation</th>\n",
       "      <th>Legendary</th>\n",
       "    </tr>\n",
       "  </thead>\n",
       "  <tbody>\n",
       "    <tr>\n",
       "      <th>0</th>\n",
       "      <td>1</td>\n",
       "      <td>Bulbasaur</td>\n",
       "      <td>Grass</td>\n",
       "      <td>Poison</td>\n",
       "      <td>318</td>\n",
       "      <td>45</td>\n",
       "      <td>49</td>\n",
       "      <td>49</td>\n",
       "      <td>65</td>\n",
       "      <td>65</td>\n",
       "      <td>45</td>\n",
       "      <td>1</td>\n",
       "      <td>False</td>\n",
       "    </tr>\n",
       "    <tr>\n",
       "      <th>1</th>\n",
       "      <td>2</td>\n",
       "      <td>Ivysaur</td>\n",
       "      <td>Grass</td>\n",
       "      <td>Poison</td>\n",
       "      <td>405</td>\n",
       "      <td>60</td>\n",
       "      <td>62</td>\n",
       "      <td>63</td>\n",
       "      <td>80</td>\n",
       "      <td>80</td>\n",
       "      <td>60</td>\n",
       "      <td>1</td>\n",
       "      <td>False</td>\n",
       "    </tr>\n",
       "    <tr>\n",
       "      <th>2</th>\n",
       "      <td>3</td>\n",
       "      <td>Venusaur</td>\n",
       "      <td>Grass</td>\n",
       "      <td>Poison</td>\n",
       "      <td>525</td>\n",
       "      <td>80</td>\n",
       "      <td>82</td>\n",
       "      <td>83</td>\n",
       "      <td>100</td>\n",
       "      <td>100</td>\n",
       "      <td>80</td>\n",
       "      <td>1</td>\n",
       "      <td>False</td>\n",
       "    </tr>\n",
       "    <tr>\n",
       "      <th>3</th>\n",
       "      <td>3</td>\n",
       "      <td>VenusaurMega Venusaur</td>\n",
       "      <td>Grass</td>\n",
       "      <td>Poison</td>\n",
       "      <td>625</td>\n",
       "      <td>80</td>\n",
       "      <td>100</td>\n",
       "      <td>123</td>\n",
       "      <td>122</td>\n",
       "      <td>120</td>\n",
       "      <td>80</td>\n",
       "      <td>1</td>\n",
       "      <td>False</td>\n",
       "    </tr>\n",
       "    <tr>\n",
       "      <th>4</th>\n",
       "      <td>4</td>\n",
       "      <td>Charmander</td>\n",
       "      <td>Fire</td>\n",
       "      <td>NaN</td>\n",
       "      <td>309</td>\n",
       "      <td>39</td>\n",
       "      <td>52</td>\n",
       "      <td>43</td>\n",
       "      <td>60</td>\n",
       "      <td>50</td>\n",
       "      <td>65</td>\n",
       "      <td>1</td>\n",
       "      <td>False</td>\n",
       "    </tr>\n",
       "  </tbody>\n",
       "</table>\n",
       "</div>"
      ],
      "text/plain": [
       "   ID                   Name Type 1  Type 2  Total  HP  Attack  Defense  \\\n",
       "0   1              Bulbasaur  Grass  Poison    318  45      49       49   \n",
       "1   2                Ivysaur  Grass  Poison    405  60      62       63   \n",
       "2   3               Venusaur  Grass  Poison    525  80      82       83   \n",
       "3   3  VenusaurMega Venusaur  Grass  Poison    625  80     100      123   \n",
       "4   4             Charmander   Fire     NaN    309  39      52       43   \n",
       "\n",
       "   Sp. Atk  Sp. Def  Speed  Generation  Legendary  \n",
       "0       65       65     45           1      False  \n",
       "1       80       80     60           1      False  \n",
       "2      100      100     80           1      False  \n",
       "3      122      120     80           1      False  \n",
       "4       60       50     65           1      False  "
      ]
     },
     "execution_count": 29,
     "metadata": {},
     "output_type": "execute_result"
    }
   ],
   "source": [
    "data.head(5)"
   ]
  },
  {
   "cell_type": "markdown",
   "id": "29305ea0",
   "metadata": {},
   "source": [
    "1. **ID** - ID покемона\n",
    "1. **Name** - Имя покемона\n",
    "2. **Type 1** - Первый стихийный тип\n",
    "3. **Type 2** - Второй стихийный тип\n",
    "4. **Total** - Сумма всех статистических данных, согласно официальному руководству\n",
    "5. **HP** - Здоровье покемона\n",
    "6. **Attack** - Базовая атака покемона\n",
    "7. **Defense** - Базовая защита покемона\n",
    "8. **Sp. Atk** - Специальная атака покемона\n",
    "9. **Sp. Def** - Защита от специальных атак другого покемона\n",
    "10. **Speed** - Скорость покемона\n",
    "11. **Generation** - Поколение покемона\n",
    "12. **Legendary** - Легендарен ли покемон или нет"
   ]
  },
  {
   "cell_type": "markdown",
   "id": "bfb6b6ac",
   "metadata": {},
   "source": [
    "### 2. Построить график распределения всех параметров покемонов и описать смыслы распределения "
   ]
  },
  {
   "cell_type": "markdown",
   "id": "cb93bb8d",
   "metadata": {},
   "source": [
    "Для удобства я построю все гистограммы на одном рисунке и отмечу среднее значение."
   ]
  },
  {
   "cell_type": "code",
   "execution_count": 9,
   "id": "d8297254",
   "metadata": {},
   "outputs": [
    {
     "data": {
      "text/plain": [
       "<matplotlib.lines.Line2D at 0x7fb752562cd0>"
      ]
     },
     "execution_count": 9,
     "metadata": {},
     "output_type": "execute_result"
    },
    {
     "data": {
      "image/png": "[encoded data removed]",
      "text/plain": [
       "<Figure size 2000x1000 with 7 Axes>"
      ]
     },
     "metadata": {},
     "output_type": "display_data"
    }
   ],
   "source": [
    "fig, ax = plt.subplots(2,4, figsize =(20,10))\n",
    "\n",
    "ax[0][0].hist(data.Total, alpha=0.55, color='red')\n",
    "ax[0][1].hist(data.HP, alpha=0.55, color='orange')\n",
    "ax[0][2].hist(data.Attack, alpha=0.55, color='yellow')\n",
    "ax[0][3].hist(data.Defense, alpha=0.55, color='green')\n",
    "ax[1][0].hist(data['Sp. Atk'], alpha=0.55)\n",
    "ax[1][1].hist(data['Sp. Def'],alpha=0.55, color='blue')\n",
    "ax[1][2].hist(data.Speed,alpha=0.55, color='purple')\n",
    "\n",
    "ax[0][0].set_title('Распределение параметра Total')\n",
    "ax[0][1].set_title('Распределение параметра HP')\n",
    "ax[0][2].set_title('Распределение параметра Attack')\n",
    "ax[0][3].set_title('Распределение параметра Defense')\n",
    "ax[1][0].set_title('Распределение параметра Sp. Atk')\n",
    "ax[1][1].set_title('Распределение параметра Sp. Def')\n",
    "ax[1][2].set_title('Распределение параметра Speed')\n",
    "\n",
    "fig.delaxes(ax[1][3])\n",
    "\n",
    "ax[0][0].axvline(data.Total.mean(), color='black')\n",
    "ax[0][1].axvline(data.HP.mean(), color='black')\n",
    "ax[0][2].axvline(data.Attack.mean(), color='black')\n",
    "ax[0][3].axvline(data.Defense.mean(), color='black')\n",
    "ax[1][0].axvline(data['Sp. Atk'].mean(), color='black')\n",
    "ax[1][1].axvline(data['Sp. Def'].mean(), color='black')\n",
    "ax[1][2].axvline(data.Speed.mean(), color='black')"
   ]
  },
  {
   "cell_type": "markdown",
   "id": "ba4a31dc",
   "metadata": {},
   "source": [
    "**Что же всё это значит?**  \n",
    "Датасет взят из игр по покемонам, а с точки зрения любого гейм-дизайна важно соблюдать **баланс** в игре, то есть не допускать, что будет слишком много сильных и мало слабых покемонов.  \n",
    "Гистрограммы с распределением данных по параметрам показывают, что разработчики предусмотрели этот момент. В целом, можно сказать, что данные распределены нормально. Пусть где-то получше, где-то похуже.  \n",
    "Я бы отметил гистограммы с параметрами **HP** и **Defense**, где лучше всего видно что есть откровенно слабые и откровенно сильные покемоны, что логично, ведь у нас есть уникальные, легендарные и мега покемоны.  \n",
    "Если обратить внимание на гистограмму с **Total** (сумма всех характеристик), то виден проработанный **игровой баланс**, однако для того, чтобы в этом сильнее убедиться я построю ящик с усами для этого параметра на следующем этапе."
   ]
  },
  {
   "cell_type": "markdown",
   "id": "daae59b7",
   "metadata": {},
   "source": [
    "### 3. Построить ящик с усами трех любых параметров покемонов и описать смыслы"
   ]
  },
  {
   "cell_type": "markdown",
   "id": "934b2e2e",
   "metadata": {},
   "source": [
    "Сохраню нужные мне параметры в отдельный датасет."
   ]
  },
  {
   "cell_type": "code",
   "execution_count": 10,
   "id": "5058ffcd",
   "metadata": {},
   "outputs": [
    {
     "data": {
      "text/html": [
       "<div>\n",
       "<style scoped>\n",
       "    .dataframe tbody tr th:only-of-type {\n",
       "        vertical-align: middle;\n",
       "    }\n",
       "\n",
       "    .dataframe tbody tr th {\n",
       "        vertical-align: top;\n",
       "    }\n",
       "\n",
       "    .dataframe thead th {\n",
       "        text-align: right;\n",
       "    }\n",
       "</style>\n",
       "<table border=\"1\" class=\"dataframe\">\n",
       "  <thead>\n",
       "    <tr style=\"text-align: right;\">\n",
       "      <th></th>\n",
       "      <th>Total</th>\n",
       "      <th>Attack</th>\n",
       "      <th>Speed</th>\n",
       "    </tr>\n",
       "  </thead>\n",
       "  <tbody>\n",
       "    <tr>\n",
       "      <th>0</th>\n",
       "      <td>318</td>\n",
       "      <td>49</td>\n",
       "      <td>45</td>\n",
       "    </tr>\n",
       "    <tr>\n",
       "      <th>1</th>\n",
       "      <td>405</td>\n",
       "      <td>62</td>\n",
       "      <td>60</td>\n",
       "    </tr>\n",
       "    <tr>\n",
       "      <th>2</th>\n",
       "      <td>525</td>\n",
       "      <td>82</td>\n",
       "      <td>80</td>\n",
       "    </tr>\n",
       "    <tr>\n",
       "      <th>3</th>\n",
       "      <td>625</td>\n",
       "      <td>100</td>\n",
       "      <td>80</td>\n",
       "    </tr>\n",
       "    <tr>\n",
       "      <th>4</th>\n",
       "      <td>309</td>\n",
       "      <td>52</td>\n",
       "      <td>65</td>\n",
       "    </tr>\n",
       "    <tr>\n",
       "      <th>...</th>\n",
       "      <td>...</td>\n",
       "      <td>...</td>\n",
       "      <td>...</td>\n",
       "    </tr>\n",
       "    <tr>\n",
       "      <th>795</th>\n",
       "      <td>600</td>\n",
       "      <td>100</td>\n",
       "      <td>50</td>\n",
       "    </tr>\n",
       "    <tr>\n",
       "      <th>796</th>\n",
       "      <td>700</td>\n",
       "      <td>160</td>\n",
       "      <td>110</td>\n",
       "    </tr>\n",
       "    <tr>\n",
       "      <th>797</th>\n",
       "      <td>600</td>\n",
       "      <td>110</td>\n",
       "      <td>70</td>\n",
       "    </tr>\n",
       "    <tr>\n",
       "      <th>798</th>\n",
       "      <td>680</td>\n",
       "      <td>160</td>\n",
       "      <td>80</td>\n",
       "    </tr>\n",
       "    <tr>\n",
       "      <th>799</th>\n",
       "      <td>600</td>\n",
       "      <td>110</td>\n",
       "      <td>70</td>\n",
       "    </tr>\n",
       "  </tbody>\n",
       "</table>\n",
       "<p>800 rows × 3 columns</p>\n",
       "</div>"
      ],
      "text/plain": [
       "     Total  Attack  Speed\n",
       "0      318      49     45\n",
       "1      405      62     60\n",
       "2      525      82     80\n",
       "3      625     100     80\n",
       "4      309      52     65\n",
       "..     ...     ...    ...\n",
       "795    600     100     50\n",
       "796    700     160    110\n",
       "797    600     110     70\n",
       "798    680     160     80\n",
       "799    600     110     70\n",
       "\n",
       "[800 rows x 3 columns]"
      ]
     },
     "execution_count": 10,
     "metadata": {},
     "output_type": "execute_result"
    }
   ],
   "source": [
    "data_box = data[['Total', 'Attack', 'Speed']]\n",
    "data_box"
   ]
  },
  {
   "cell_type": "code",
   "execution_count": 11,
   "id": "9bf1520e",
   "metadata": {},
   "outputs": [
    {
     "data": {
      "text/plain": [
       "Text(0.5, 1.0, 'Параметр Speed')"
      ]
     },
     "execution_count": 11,
     "metadata": {},
     "output_type": "execute_result"
    },
    {
     "data": {
      "image/png": "[encoded data removed]",
      "text/plain": [
       "<Figure size 1000x2000 with 3 Axes>"
      ]
     },
     "metadata": {},
     "output_type": "display_data"
    }
   ],
   "source": [
    "fig, ax = plt.subplots(3,1, figsize =(10,20))\n",
    "\n",
    "ax[0].boxplot(data.Total, vert=False)\n",
    "ax[0].set_title('Параметр Total')\n",
    "\n",
    "ax[1].boxplot(data.Attack,vert=False)\n",
    "ax[1].set_title('Параметр Attack')\n",
    "\n",
    "ax[2].boxplot(data.Speed,vert=False)\n",
    "ax[2].set_title('Параметр Speed')"
   ]
  },
  {
   "cell_type": "markdown",
   "id": "1c65845a",
   "metadata": {},
   "source": [
    "* **Total**. Возвращаясь к прошлому вопросу, можно сказать, что игровой баланс действительно соблюдается. В колонке Total нет ни одного выбороса. Видно, что медиана находится почти в центре, с небольшим смещением влево.  \n",
    "* **Attack**. Как и в любой другой игре должны быть боссы, уникальные покемоны, у которых есть один перекаченный параметр, но со слабыми местами. Всего \"супер-атакующих\" покемонов 4.\n",
    "* **Speed**. Здесь тоже всего два выброса с \"супер-быстрыми\" покемонами.  \n",
    "Как итог можно подтвердить слова о проработанном игровом балансе. Стоит помнить, что в данном датасете есть как и базые покемоны с самыми слабыми характеристиками, так и их эволюции, так и мега с легендарными покемонами."
   ]
  },
  {
   "cell_type": "markdown",
   "id": "1133b57a",
   "metadata": {},
   "source": [
    "### 4. Построить лепестковую диаграмму двух любых покемонов и сравнить их способности (описать словами, что на графике)"
   ]
  },
  {
   "cell_type": "markdown",
   "id": "2bb3a7c5",
   "metadata": {},
   "source": [
    "Как же я люблю покемонов, поэтому буду анализировать двух конкретных. **Мега Мьюту X** (по-моему мнению самый сильный и красивый покемон да ещё и с тяжелой судьбой) и **Мега Гаярадос** (самый страшный и с самой смешной первой формой эволюции).  \n",
    "Ожидается, что Мьюту сильнее Гаярадоса по всем параметрам."
   ]
  },
  {
   "cell_type": "code",
   "execution_count": 27,
   "id": "fee29b12",
   "metadata": {},
   "outputs": [
    {
     "ename": "SyntaxError",
     "evalue": "invalid syntax (493433384.py, line 25)",
     "output_type": "error",
     "traceback": [
      "\u001b[0;36m  File \u001b[0;32m\"/var/folders/qf/cjm11qy12hsfv4b7_43k9p7c0000gn/T/ipykernel_2735/493433384.py\"\u001b[0;36m, line \u001b[0;32m25\u001b[0m\n\u001b[0;31m    warnings.(\"ignore\")\u001b[0m\n\u001b[0m             ^\u001b[0m\n\u001b[0;31mSyntaxError\u001b[0m\u001b[0;31m:\u001b[0m invalid syntax\n"
     ]
    }
   ],
   "source": [
    "mewtwo = data[data.Name == 'MewtwoMega Mewtwo X'][['HP', 'Attack', 'Defense', 'Sp. Atk', 'Sp. Def', 'Speed']].iloc[0]\n",
    "gyarados = data[data.Name == 'GyaradosMega Gyarados'][['HP', 'Attack', 'Defense', 'Sp. Atk', 'Sp. Def', 'Speed']].iloc[0]\n",
    "categories = ['HP', 'Attack', 'Defense', 'Sp. Atk', 'Sp. Def', 'Speed']\n",
    "num_categories = len(categories)\n",
    "angles = [n / float(num_categories) * 2 * math.pi for n in range(num_categories)]\n",
    "angles += angles[:1]\n",
    "mewtwo = mewtwo.append(mewtwo[:1])\n",
    "gyarados = gyarados.append(gyarados[:1])\n",
    "\n",
    "\n",
    "\n",
    "fig = plt.figure(figsize=(12, 12))\n",
    "ax = fig.add_subplot(111, polar=True)\n",
    "\n",
    "ax.plot(angles, mewtwo, 'o-', linewidth=3, color = 'pink', label='Mega Mewtwo X')\n",
    "ax.plot(angles, gyarados, 'o-', linewidth=3, label='Mega Gyarados')\n",
    "\n",
    "ax.fill(angles, mewtwo, alpha=0.35, color='pink')\n",
    "ax.fill(angles, gyarados, alpha=0.35, color='blue')\n",
    "\n",
    "ax.set_thetagrids([a * 180/math.pi for a in angles[:-1]], labels=categories)\n",
    "ax.set_title('Mega Mewtwo X VS. Mega Gyarados ')\n",
    "ax.legend(loc='upper left')\n",
    "plt.show()\n"
   ]
  },
  {
   "cell_type": "markdown",
   "id": "086eabdf",
   "metadata": {},
   "source": [
    "Конечно, площадь параметров Мьюту **намного больше** чем у Гаярадоса, что говорит о превосходстве Мьюту. Однако удивительно, что есть параметры, где змей побеждает, чего я не ожидал.  \n",
    "Это параметры **Defense** и **Sp. Def**. Иначе говоря, защита от базовых атак и защита от специальных атак выше у змея."
   ]
  },
  {
   "cell_type": "markdown",
   "id": "bd85d991",
   "metadata": {},
   "source": [
    "### 5. Построить столбиковую диаграмму по количеству покемонов каждого поколения."
   ]
  },
  {
   "cell_type": "code",
   "execution_count": 13,
   "id": "a31e256c",
   "metadata": {},
   "outputs": [
    {
     "data": {
      "image/png": "[encoded data removed]",
      "text/plain": [
       "<Figure size 1500x700 with 1 Axes>"
      ]
     },
     "metadata": {},
     "output_type": "display_data"
    }
   ],
   "source": [
    "plt.figure(figsize=(15,7))\n",
    "\n",
    "sns.countplot(data=data, x='Generation')\n",
    "\n",
    "plt.title('Колличество покемонов из разных поколений')\n",
    "plt.xlabel('Поколение')\n",
    "plt.ylabel('Колличество')\n",
    "plt.show()\n"
   ]
  },
  {
   "cell_type": "markdown",
   "id": "a54fffac",
   "metadata": {},
   "source": [
    "Поколение -- это серии игр по Покемонам. Каждое поколение имеет несколько игр и привязку к географии c новыми покемонами.  \n",
    "Например, игры первого поколения происходят в регионе **Канто**. Всего в этом поколении 4 игры (Red, Green, Blue и спец.издание Yellow. Всего поколений **9**, последнее из них происходит в Греции на Пиренейских островах. В датасете всего 6 поколений, потому что последнее обновление было 7 лет назад, а игры по покемонам до сих пор выпускаются.  \n",
    "**Однако, тут можно обнаружить проблемы.** Все источники говорят о том, что в первом поколении всего 151 покемонов, а график показывает, что их больше 160. В третьем поколении должно быть только 135 покемонов. В пятом 156. В шестом 72.  Нужно разобраться, что тут происходит."
   ]
  },
  {
   "cell_type": "code",
   "execution_count": 14,
   "id": "6bda2349",
   "metadata": {},
   "outputs": [
    {
     "data": {
      "text/plain": [
       "1    166\n",
       "5    165\n",
       "3    160\n",
       "4    121\n",
       "2    106\n",
       "6     82\n",
       "Name: Generation, dtype: int64"
      ]
     },
     "execution_count": 14,
     "metadata": {},
     "output_type": "execute_result"
    }
   ],
   "source": [
    "data['Generation'].value_counts()"
   ]
  },
  {
   "cell_type": "code",
   "execution_count": 15,
   "id": "4c3471a2",
   "metadata": {},
   "outputs": [
    {
     "data": {
      "text/plain": [
       "166"
      ]
     },
     "execution_count": 15,
     "metadata": {},
     "output_type": "execute_result"
    }
   ],
   "source": [
    "pokemon_first = data[data.Generation==1]\n",
    "len(pokemon_first.Name.unique())"
   ]
  },
  {
   "cell_type": "code",
   "execution_count": 16,
   "id": "b8539d5d",
   "metadata": {},
   "outputs": [
    {
     "data": {
      "text/plain": [
       "151"
      ]
     },
     "execution_count": 16,
     "metadata": {},
     "output_type": "execute_result"
    }
   ],
   "source": [
    "len(pokemon_first.ID.unique())"
   ]
  },
  {
   "cell_type": "markdown",
   "id": "a83576b3",
   "metadata": {},
   "source": [
    "**Тут всё стало ясно. Дело в том, что на вики и официальная информация считает покемонов без их мега-эволюций. То есть один покемон и такой же покемон, но с мега-эволюцией считается за одного. Поэтому в первом поколении 166 покемонов вместо 151. У нескольких строчек с покемоном может быть один и тот же ID.**\n",
    "\n",
    "Вот пример:"
   ]
  },
  {
   "cell_type": "code",
   "execution_count": 17,
   "id": "b62db370",
   "metadata": {},
   "outputs": [
    {
     "data": {
      "text/html": [
       "<div>\n",
       "<style scoped>\n",
       "    .dataframe tbody tr th:only-of-type {\n",
       "        vertical-align: middle;\n",
       "    }\n",
       "\n",
       "    .dataframe tbody tr th {\n",
       "        vertical-align: top;\n",
       "    }\n",
       "\n",
       "    .dataframe thead th {\n",
       "        text-align: right;\n",
       "    }\n",
       "</style>\n",
       "<table border=\"1\" class=\"dataframe\">\n",
       "  <thead>\n",
       "    <tr style=\"text-align: right;\">\n",
       "      <th></th>\n",
       "      <th>ID</th>\n",
       "      <th>Name</th>\n",
       "      <th>Type 1</th>\n",
       "      <th>Type 2</th>\n",
       "      <th>Total</th>\n",
       "      <th>HP</th>\n",
       "      <th>Attack</th>\n",
       "      <th>Defense</th>\n",
       "      <th>Sp. Atk</th>\n",
       "      <th>Sp. Def</th>\n",
       "      <th>Speed</th>\n",
       "      <th>Generation</th>\n",
       "      <th>Legendary</th>\n",
       "    </tr>\n",
       "  </thead>\n",
       "  <tbody>\n",
       "    <tr>\n",
       "      <th>162</th>\n",
       "      <td>150</td>\n",
       "      <td>Mewtwo</td>\n",
       "      <td>Psychic</td>\n",
       "      <td>NaN</td>\n",
       "      <td>680</td>\n",
       "      <td>106</td>\n",
       "      <td>110</td>\n",
       "      <td>90</td>\n",
       "      <td>154</td>\n",
       "      <td>90</td>\n",
       "      <td>130</td>\n",
       "      <td>1</td>\n",
       "      <td>True</td>\n",
       "    </tr>\n",
       "    <tr>\n",
       "      <th>163</th>\n",
       "      <td>150</td>\n",
       "      <td>MewtwoMega Mewtwo X</td>\n",
       "      <td>Psychic</td>\n",
       "      <td>Fighting</td>\n",
       "      <td>780</td>\n",
       "      <td>106</td>\n",
       "      <td>190</td>\n",
       "      <td>100</td>\n",
       "      <td>154</td>\n",
       "      <td>100</td>\n",
       "      <td>130</td>\n",
       "      <td>1</td>\n",
       "      <td>True</td>\n",
       "    </tr>\n",
       "    <tr>\n",
       "      <th>164</th>\n",
       "      <td>150</td>\n",
       "      <td>MewtwoMega Mewtwo Y</td>\n",
       "      <td>Psychic</td>\n",
       "      <td>NaN</td>\n",
       "      <td>780</td>\n",
       "      <td>106</td>\n",
       "      <td>150</td>\n",
       "      <td>70</td>\n",
       "      <td>194</td>\n",
       "      <td>120</td>\n",
       "      <td>140</td>\n",
       "      <td>1</td>\n",
       "      <td>True</td>\n",
       "    </tr>\n",
       "  </tbody>\n",
       "</table>\n",
       "</div>"
      ],
      "text/plain": [
       "      ID                 Name   Type 1    Type 2  Total   HP  Attack  Defense  \\\n",
       "162  150               Mewtwo  Psychic       NaN    680  106     110       90   \n",
       "163  150  MewtwoMega Mewtwo X  Psychic  Fighting    780  106     190      100   \n",
       "164  150  MewtwoMega Mewtwo Y  Psychic       NaN    780  106     150       70   \n",
       "\n",
       "     Sp. Atk  Sp. Def  Speed  Generation  Legendary  \n",
       "162      154       90    130           1       True  \n",
       "163      154      100    130           1       True  \n",
       "164      194      120    140           1       True  "
      ]
     },
     "execution_count": 17,
     "metadata": {},
     "output_type": "execute_result"
    }
   ],
   "source": [
    "data[data.ID==150]"
   ]
  },
  {
   "cell_type": "markdown",
   "id": "7b0447ae",
   "metadata": {},
   "source": [
    "Три покемона считаются за одного."
   ]
  },
  {
   "cell_type": "markdown",
   "id": "e1569eda",
   "metadata": {},
   "source": [
    "### 6. Выбрать либо покемонов одного поколения, либо самых сильных/слабых покемонов, либо покемонов одного типа, сформулировать одну гипотезу о них и с помощью визуализации подтвердить или опровергнуть ее."
   ]
  },
  {
   "cell_type": "markdown",
   "id": "556e56bf",
   "metadata": {},
   "source": [
    "Самые главные и интересные покемоны это легендарные. Их очень сложно получить в свою коллекцию и их мало. Поэтому я хочу выдвинуть гипотезу, что в каждом поколении видео-игр плюс-минус одинаковое колличество легендарных покемонов, чтобы поддерживать интерес игроков. Для подтверждения этой гипотезы я сделаю столбчатые диаграммы по каждому поколению."
   ]
  },
  {
   "cell_type": "code",
   "execution_count": 18,
   "id": "18708bde",
   "metadata": {},
   "outputs": [
    {
     "data": {
      "text/plain": [
       "46"
      ]
     },
     "execution_count": 18,
     "metadata": {},
     "output_type": "execute_result"
    }
   ],
   "source": [
    "legends = data[data.Legendary==True]\n",
    "len(legends.ID.unique())"
   ]
  },
  {
   "cell_type": "markdown",
   "id": "d3fcc431",
   "metadata": {},
   "source": [
    "Всего у нас 46 легендарных покемонов (брать в датасет их эволюции и вариации я не буду, чтобы не смазать картину.)"
   ]
  },
  {
   "cell_type": "code",
   "execution_count": 19,
   "id": "f299dfdc",
   "metadata": {},
   "outputs": [],
   "source": [
    "legends = legends.drop_duplicates(subset=['ID'])"
   ]
  },
  {
   "cell_type": "code",
   "execution_count": 20,
   "id": "c0aac2a7",
   "metadata": {},
   "outputs": [
    {
     "data": {
      "text/plain": [
       "(46, 13)"
      ]
     },
     "execution_count": 20,
     "metadata": {},
     "output_type": "execute_result"
    }
   ],
   "source": [
    "legends.shape"
   ]
  },
  {
   "cell_type": "markdown",
   "id": "5e225d5c",
   "metadata": {},
   "source": [
    "Теперь я оставил только то, что нужно."
   ]
  },
  {
   "cell_type": "code",
   "execution_count": 21,
   "id": "cd9bc1cc",
   "metadata": {},
   "outputs": [
    {
     "data": {
      "image/png": "[encoded data removed]",
      "text/plain": [
       "<Figure size 1500x700 with 1 Axes>"
      ]
     },
     "metadata": {},
     "output_type": "display_data"
    }
   ],
   "source": [
    "\n",
    "plt.figure(figsize=(15,7))\n",
    "\n",
    "sns.countplot(data=legends, y='Generation')\n",
    "plt.title('Легендарные покемоны из разных поколений')\n",
    "plt.ylabel('Поколение')\n",
    "plt.xlabel('Колличество')\n",
    "plt.show()"
   ]
  },
  {
   "cell_type": "markdown",
   "id": "f8aaba8f",
   "metadata": {},
   "source": [
    "Гипотезу можно опровергнуть. В некоторых поколениях действительно больше легендарных покемонов, чем в других. Я рассчитывал, что колличество будет примерно одномерное с погрешностью в 2-3 покемона.  \n",
    "График же показывает, что разница между самым маленьким колличеством легендарных покемонов и самым большим -- 7 покемонов. Я удивлён.\n"
   ]
  },
  {
   "cell_type": "markdown",
   "id": "2f722a7e",
   "metadata": {},
   "source": [
    "**Спасибо!**"
   ]
  }
 ],
 "metadata": {
  "kernelspec": {
   "display_name": "Python 3 (ipykernel)",
   "language": "python",
   "name": "python3"
  },
  "language_info": {
   "codemirror_mode": {
    "name": "ipython",
    "version": 3
   },
   "file_extension": ".py",
   "mimetype": "text/x-python",
   "name": "python",
   "nbconvert_exporter": "python",
   "pygments_lexer": "ipython3",
   "version": "3.9.13"
  }
 },
 "nbformat": 4,
 "nbformat_minor": 5
}
